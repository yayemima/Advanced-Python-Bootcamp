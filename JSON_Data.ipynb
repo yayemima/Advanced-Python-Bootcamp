{
 "cells": [
  {
   "cell_type": "markdown",
   "metadata": {},
   "source": [
    "# Read JSON Format Data\n",
    "\n",
    "JSoN stands for JavaScript Object Notation (although it is not JavaScript!), and is a data format similar to Python dictionaries."
   ]
  },
  {
   "cell_type": "markdown",
   "metadata": {},
   "source": [
    "### Creating JSON Data"
   ]
  },
  {
   "cell_type": "code",
   "execution_count": null,
   "metadata": {
    "collapsed": true
   },
   "outputs": [],
   "source": [
    "import json"
   ]
  },
  {
   "cell_type": "code",
   "execution_count": null,
   "metadata": {
    "collapsed": true
   },
   "outputs": [],
   "source": [
    "#create data\n",
    "\n",
    "data = {\n",
    "    \"pets\": [\n",
    "    {\n",
    "        \"name\": 'Goku',\n",
    "        \"type\": 'dog',\n",
    "        \"age\": 4,\n",
    "        \"fav_food\" : 'bone',\n",
    "        \"hobbies\" : ['whining', 'licking butts']   \n",
    "    },\n",
    "    {\n",
    "        \"name\": 'Mika',\n",
    "        \"type\": 'dog',\n",
    "        \"age\": 5,\n",
    "        \"fav_food\" : 'bacon',\n",
    "        \"hobbies\" : ['relaxing', 'ripping toys']\n",
    "    },\n",
    "    {\n",
    "        \"name\": 'Brunson',\n",
    "        \"type\": 'cat',\n",
    "        \"age\": 5,\n",
    "        \"fav_food\" : 'undecided',\n",
    "        \"hobbies\" : 'being outside',\n",
    "    },\n",
    "    {\n",
    "        \"name\": 'Tiny',\n",
    "        \"type\": 'dog',\n",
    "        \"age\": 4,\n",
    "        \"fav_food\" : 'steak',\n",
    "        \"hobbies\" : ['barking', 'sitting outside']\n",
    "    }\n",
    "\n",
    "] }"
   ]
  },
  {
   "cell_type": "code",
   "execution_count": null,
   "metadata": {
    "collapsed": true
   },
   "outputs": [],
   "source": [
    "#write data to JSON file\n",
    "with open('petdata.json', 'w') as write_file:\n",
    "    json.dump(data, write_file)"
   ]
  },
  {
   "cell_type": "code",
   "execution_count": null,
   "metadata": {
    "collapsed": true
   },
   "outputs": [],
   "source": [
    "#or you can write the data to a Python string object\n",
    "#this is to be able to do something to the JSON objects in-memory\n",
    "pet_string = json.dumps(data)\n",
    "pet_string"
   ]
  },
  {
   "cell_type": "code",
   "execution_count": null,
   "metadata": {
    "collapsed": true
   },
   "outputs": [],
   "source": [
    "#let's make it look more readable\n",
    "pet_string = json.dumps(data, indent=4)\n",
    "print(pet_string)"
   ]
  },
  {
   "cell_type": "markdown",
   "metadata": {},
   "source": [
    "### Load in JSON Data"
   ]
  },
  {
   "cell_type": "code",
   "execution_count": null,
   "metadata": {
    "collapsed": true
   },
   "outputs": [],
   "source": [
    "#bring back data from petdata.json file\n",
    "with open(\"petdata.json\", 'r') as read_file:\n",
    "    data = json.load(read_file)\n",
    "    \n",
    "data"
   ]
  },
  {
   "cell_type": "code",
   "execution_count": null,
   "metadata": {
    "collapsed": true
   },
   "outputs": [],
   "source": [
    "#or load from in-memory string\n",
    "data = json.loads(pet_string)\n",
    "data"
   ]
  },
  {
   "cell_type": "markdown",
   "metadata": {},
   "source": [
    "## NBA JSON Data\n",
    "\n",
    "Data collected from Sports Reference LLC that has NBA games played from 1985-2013.\n",
    "\n",
    "Data source: https://data.mendeley.com/datasets/ct8f9skv97/1"
   ]
  },
  {
   "cell_type": "code",
   "execution_count": null,
   "metadata": {
    "collapsed": true
   },
   "outputs": [],
   "source": [
    "import pandas as pd\n",
    "import json"
   ]
  },
  {
   "cell_type": "code",
   "execution_count": null,
   "metadata": {
    "collapsed": true
   },
   "outputs": [],
   "source": [
    "#use bash head command to see a little bit of the JSON file\n",
    "#look at data structure\n",
    "\n",
    "%%bash\n",
    "\n",
    "head datasets/nbagames.json"
   ]
  },
  {
   "cell_type": "code",
   "execution_count": null,
   "metadata": {
    "collapsed": true
   },
   "outputs": [],
   "source": [
    "filepath = \"datasets/nbagames.json\""
   ]
  },
  {
   "cell_type": "code",
   "execution_count": 1,
   "metadata": {},
   "outputs": [
    {
     "ename": "NameError",
     "evalue": "name 'filepath' is not defined",
     "output_type": "error",
     "traceback": [
      "\u001b[1;31m---------------------------------------------------------------------------\u001b[0m",
      "\u001b[1;31mNameError\u001b[0m                                 Traceback (most recent call last)",
      "\u001b[1;32m<ipython-input-1-4dce1c06d7ce>\u001b[0m in \u001b[0;36m<module>\u001b[1;34m()\u001b[0m\n\u001b[0;32m      4\u001b[0m \u001b[0mdata\u001b[0m \u001b[1;33m=\u001b[0m \u001b[1;33m[\u001b[0m\u001b[1;33m]\u001b[0m\u001b[1;33m\u001b[0m\u001b[0m\n\u001b[0;32m      5\u001b[0m \u001b[1;33m\u001b[0m\u001b[0m\n\u001b[1;32m----> 6\u001b[1;33m \u001b[1;32mwith\u001b[0m \u001b[0mopen\u001b[0m\u001b[1;33m(\u001b[0m\u001b[0mfilepath\u001b[0m\u001b[1;33m)\u001b[0m \u001b[1;32mas\u001b[0m \u001b[0mfile\u001b[0m\u001b[1;33m:\u001b[0m\u001b[1;33m\u001b[0m\u001b[0m\n\u001b[0m\u001b[0;32m      7\u001b[0m     \u001b[1;32mfor\u001b[0m \u001b[0mline\u001b[0m \u001b[1;32min\u001b[0m \u001b[0mfile\u001b[0m\u001b[1;33m:\u001b[0m\u001b[1;33m\u001b[0m\u001b[0m\n\u001b[0;32m      8\u001b[0m         \u001b[0mdata\u001b[0m\u001b[1;33m.\u001b[0m\u001b[0mappend\u001b[0m\u001b[1;33m(\u001b[0m\u001b[0mjson\u001b[0m\u001b[1;33m.\u001b[0m\u001b[0mloads\u001b[0m\u001b[1;33m(\u001b[0m\u001b[0mline\u001b[0m\u001b[1;33m)\u001b[0m\u001b[1;33m)\u001b[0m\u001b[1;33m\u001b[0m\u001b[0m\n",
      "\u001b[1;31mNameError\u001b[0m: name 'filepath' is not defined"
     ]
    }
   ],
   "source": [
    "#data is individual JSON objects not separated by commas\n",
    "#will load data as JSON and put in bigger list to be able to extract values from keys\n",
    "\n",
    "data = []\n",
    "\n",
    "with open(nbagames.json) as file:\n",
    "    for line in file:\n",
    "        data.append(json.loads(line))"
   ]
  },
  {
   "cell_type": "code",
   "execution_count": null,
   "metadata": {
    "collapsed": true
   },
   "outputs": [],
   "source": [
    "#verify that this is a list type\n",
    "type(data)"
   ]
  },
  {
   "cell_type": "code",
   "execution_count": null,
   "metadata": {
    "collapsed": true
   },
   "outputs": [],
   "source": [
    "#check number of items in data list\n",
    "#this is the total number of games in dataset\n",
    "len(data)"
   ]
  },
  {
   "cell_type": "markdown",
   "metadata": {},
   "source": [
    "#### Verify values within the data structure"
   ]
  },
  {
   "cell_type": "code",
   "execution_count": null,
   "metadata": {
    "collapsed": true
   },
   "outputs": [],
   "source": [
    "#each index level is a basketball game\n",
    "data[0]"
   ]
  },
  {
   "cell_type": "code",
   "execution_count": null,
   "metadata": {
    "collapsed": true
   },
   "outputs": [],
   "source": [
    "#teams within each basketball game\n",
    "data[0]['teams']"
   ]
  },
  {
   "cell_type": "code",
   "execution_count": null,
   "metadata": {
    "collapsed": true
   },
   "outputs": [],
   "source": [
    "#get the date of a game\n",
    "data[0]['date']['$date']"
   ]
  },
  {
   "cell_type": "code",
   "execution_count": null,
   "metadata": {
    "collapsed": true
   },
   "outputs": [],
   "source": [
    "#get a team's city abbreviation\n",
    "data[0]['teams'][0]['abbreviation']"
   ]
  },
  {
   "cell_type": "code",
   "execution_count": null,
   "metadata": {
    "collapsed": true
   },
   "outputs": [],
   "source": [
    "#get a player's name\n",
    "data[0]['teams'][0]['players'][0]['player']"
   ]
  },
  {
   "cell_type": "code",
   "execution_count": null,
   "metadata": {
    "collapsed": true
   },
   "outputs": [],
   "source": [
    "#initialize variables for empty lists to hold data\n",
    "\n",
    "datels = [] #date of game\n",
    "abrvls = [] #city abbreviation\n",
    "cityls = [] #name of city\n",
    "homels = []   #T/F if home game\n",
    "namels = [] #team name\n",
    "playersls = [] #list of players that played in the game\n",
    "scorels = []   #final score for game\n",
    "wonls = []  #0/1 if won"
   ]
  },
  {
   "cell_type": "code",
   "execution_count": null,
   "metadata": {
    "collapsed": true
   },
   "outputs": [],
   "source": [
    "#fill lists with data\n",
    "\n",
    "for game in data:  #data[index]\n",
    "    \n",
    "    #add date to list twice for each team playing the game that day\n",
    "    datels.append(game['date']['$date'])\n",
    "    datels.append(game['date']['$date'])\n",
    "    \n",
    "    for team in game['teams']: #data[index]['teams'][index]\n",
    "        abrvls.append(team['abbreviation']) \n",
    "        cityls.append(team['city'])\n",
    "        homels.append(team['home'])\n",
    "        namels.append(team['name'])\n",
    "        scorels.append(team['score'])\n",
    "        wonls.append(team['won'])\n",
    "        \n",
    "        members = [] #hold list of players to add to playerls\n",
    "        \n",
    "        for player in team['players']:  #data[index]['teams'][index]['players'][index]\n",
    "            members.append(player['player'])\n",
    "        \n",
    "        playersls.append(members)"
   ]
  },
  {
   "cell_type": "code",
   "execution_count": null,
   "metadata": {
    "collapsed": true
   },
   "outputs": [],
   "source": [
    "#verify amount of informaton in date list\n",
    "len(datels)"
   ]
  },
  {
   "cell_type": "code",
   "execution_count": null,
   "metadata": {
    "collapsed": true
   },
   "outputs": [],
   "source": [
    "#see first 20 values within date list\n",
    "datels[:20]"
   ]
  },
  {
   "cell_type": "code",
   "execution_count": null,
   "metadata": {
    "collapsed": true
   },
   "outputs": [],
   "source": [
    "#check that players is a list of lists\n",
    "#first 5 items in players list\n",
    "playersls[:5]"
   ]
  },
  {
   "cell_type": "code",
   "execution_count": null,
   "metadata": {
    "collapsed": true
   },
   "outputs": [],
   "source": [
    "#check that values for each list add up to be the same\n",
    "\n",
    "print(len(datels)) #date of game\n",
    "print(len(abrvls)) #city abbreviation\n",
    "print(len(cityls)) #name of city\n",
    "print(len(homels))  #T/F if home game\n",
    "print(len(namels)) #team name\n",
    "print(len(playersls)) #list of players that played in the game\n",
    "print(len(scorels))  #final score for game\n",
    "print(len(wonls))  #0/1 if won"
   ]
  },
  {
   "cell_type": "markdown",
   "metadata": {},
   "source": [
    "#### Make gathered information into dataframe"
   ]
  },
  {
   "cell_type": "code",
   "execution_count": null,
   "metadata": {
    "collapsed": true
   },
   "outputs": [],
   "source": [
    "#zip lists together into one list\n",
    "#will put in order I want my columns to be\n",
    "NBAlist = list(zip(datels, namels, abrvls, cityls, homels, scorels, wonls, playersls))\n",
    "\n",
    "#make list of column names\n",
    "names = ['date', 'team_name', 'abbrv', 'city', 'home_game', 'score', 'won_game', 'players']"
   ]
  },
  {
   "cell_type": "code",
   "execution_count": null,
   "metadata": {
    "collapsed": true
   },
   "outputs": [],
   "source": [
    "#make the dataframe\n",
    "df = pd.DataFrame(NBAlist, columns=names)\n",
    "\n",
    "df.head()"
   ]
  }
 ],
 "metadata": {
  "kernelspec": {
   "display_name": "Python 3",
   "language": "python",
   "name": "python3"
  },
  "language_info": {
   "codemirror_mode": {
    "name": "ipython",
    "version": 3
   },
   "file_extension": ".py",
   "mimetype": "text/x-python",
   "name": "python",
   "nbconvert_exporter": "python",
   "pygments_lexer": "ipython3",
   "version": "3.6.3"
  }
 },
 "nbformat": 4,
 "nbformat_minor": 2
}
