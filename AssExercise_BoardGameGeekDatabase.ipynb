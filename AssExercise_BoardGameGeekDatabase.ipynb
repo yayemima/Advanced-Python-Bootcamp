{
 "cells": [
  {
   "cell_type": "code",
   "execution_count": 25,
   "metadata": {
    "collapsed": true
   },
   "outputs": [],
   "source": [
    "import pandas as pd\n",
    "\n",
    "from sqlalchemy import create_engine"
   ]
  },
  {
   "cell_type": "code",
   "execution_count": 35,
   "metadata": {
    "collapsed": true
   },
   "outputs": [],
   "source": [
    "# Connect to sqlite db\n",
    "db_file = r'datasets/database.sqlite'\n",
    "engine = create_engine(r\"sqlite:///{}\".format(db_file))"
   ]
  },
  {
   "cell_type": "code",
   "execution_count": 36,
   "metadata": {},
   "outputs": [
    {
     "data": {
      "text/html": [
       "<div>\n",
       "<style scoped>\n",
       "    .dataframe tbody tr th:only-of-type {\n",
       "        vertical-align: middle;\n",
       "    }\n",
       "\n",
       "    .dataframe tbody tr th {\n",
       "        vertical-align: top;\n",
       "    }\n",
       "\n",
       "    .dataframe thead th {\n",
       "        text-align: right;\n",
       "    }\n",
       "</style>\n",
       "<table border=\"1\" class=\"dataframe\">\n",
       "  <thead>\n",
       "    <tr style=\"text-align: right;\">\n",
       "      <th></th>\n",
       "      <th>type</th>\n",
       "      <th>name</th>\n",
       "      <th>tbl_name</th>\n",
       "      <th>rootpage</th>\n",
       "      <th>sql</th>\n",
       "    </tr>\n",
       "  </thead>\n",
       "  <tbody>\n",
       "    <tr>\n",
       "      <th>0</th>\n",
       "      <td>table</td>\n",
       "      <td>BoardGames</td>\n",
       "      <td>BoardGames</td>\n",
       "      <td>2</td>\n",
       "      <td>CREATE TABLE \"BoardGames\" (\\n  \"row_names\" TEX...</td>\n",
       "    </tr>\n",
       "    <tr>\n",
       "      <th>1</th>\n",
       "      <td>table</td>\n",
       "      <td>bgg.ldaOut.topics</td>\n",
       "      <td>bgg.ldaOut.topics</td>\n",
       "      <td>128639</td>\n",
       "      <td>CREATE TABLE \"bgg.ldaOut.topics\" (\\n  \"row_nam...</td>\n",
       "    </tr>\n",
       "    <tr>\n",
       "      <th>2</th>\n",
       "      <td>table</td>\n",
       "      <td>bgg.ldaOut.top.terms</td>\n",
       "      <td>bgg.ldaOut.top.terms</td>\n",
       "      <td>129442</td>\n",
       "      <td>CREATE TABLE \"bgg.ldaOut.top.terms\" (\\n  \"row_...</td>\n",
       "    </tr>\n",
       "    <tr>\n",
       "      <th>3</th>\n",
       "      <td>table</td>\n",
       "      <td>bgg.ldaOut.top.documents</td>\n",
       "      <td>bgg.ldaOut.top.documents</td>\n",
       "      <td>129454</td>\n",
       "      <td>CREATE TABLE \"bgg.ldaOut.top.documents\" (\\n  \"...</td>\n",
       "    </tr>\n",
       "    <tr>\n",
       "      <th>4</th>\n",
       "      <td>table</td>\n",
       "      <td>bgg.topics</td>\n",
       "      <td>bgg.topics</td>\n",
       "      <td>129468</td>\n",
       "      <td>CREATE TABLE \"bgg.topics\" (\\n  \"row_names\" TEX...</td>\n",
       "    </tr>\n",
       "  </tbody>\n",
       "</table>\n",
       "</div>"
      ],
      "text/plain": [
       "    type                      name                  tbl_name  rootpage  \\\n",
       "0  table                BoardGames                BoardGames         2   \n",
       "1  table         bgg.ldaOut.topics         bgg.ldaOut.topics    128639   \n",
       "2  table      bgg.ldaOut.top.terms      bgg.ldaOut.top.terms    129442   \n",
       "3  table  bgg.ldaOut.top.documents  bgg.ldaOut.top.documents    129454   \n",
       "4  table                bgg.topics                bgg.topics    129468   \n",
       "\n",
       "                                                 sql  \n",
       "0  CREATE TABLE \"BoardGames\" (\\n  \"row_names\" TEX...  \n",
       "1  CREATE TABLE \"bgg.ldaOut.topics\" (\\n  \"row_nam...  \n",
       "2  CREATE TABLE \"bgg.ldaOut.top.terms\" (\\n  \"row_...  \n",
       "3  CREATE TABLE \"bgg.ldaOut.top.documents\" (\\n  \"...  \n",
       "4  CREATE TABLE \"bgg.topics\" (\\n  \"row_names\" TEX...  "
      ]
     },
     "execution_count": 36,
     "metadata": {},
     "output_type": "execute_result"
    }
   ],
   "source": [
    "#find out what tables are in the database\n",
    "sql = \"SELECT * FROM sqlite_master WHERE type = 'table';\"\n",
    "\n",
    "table_names = pd.read_sql(sql, engine)\n",
    "table_names"
   ]
  },
  {
   "cell_type": "code",
   "execution_count": 50,
   "metadata": {},
   "outputs": [
    {
     "data": {
      "text/html": [
       "<div>\n",
       "<style scoped>\n",
       "    .dataframe tbody tr th:only-of-type {\n",
       "        vertical-align: middle;\n",
       "    }\n",
       "\n",
       "    .dataframe tbody tr th {\n",
       "        vertical-align: top;\n",
       "    }\n",
       "\n",
       "    .dataframe thead th {\n",
       "        text-align: right;\n",
       "    }\n",
       "</style>\n",
       "<table border=\"1\" class=\"dataframe\">\n",
       "  <thead>\n",
       "    <tr style=\"text-align: right;\">\n",
       "      <th></th>\n",
       "      <th>RowCount</th>\n",
       "    </tr>\n",
       "  </thead>\n",
       "  <tbody>\n",
       "    <tr>\n",
       "      <th>0</th>\n",
       "      <td>90400</td>\n",
       "    </tr>\n",
       "  </tbody>\n",
       "</table>\n",
       "</div>"
      ],
      "text/plain": [
       "   RowCount\n",
       "0     90400"
      ]
     },
     "execution_count": 50,
     "metadata": {},
     "output_type": "execute_result"
    }
   ],
   "source": [
    "#Count number of rows in one column\n",
    "sql = \"SELECT COUNT(*) as RowCount FROM BoardGames \"\n",
    "\n",
    "RowCount = pd.read_sql(sql, engine)\n",
    "RowCount"
   ]
  },
  {
   "cell_type": "code",
   "execution_count": 47,
   "metadata": {
    "collapsed": true
   },
   "outputs": [],
   "source": [
    "#get everything from table BoardGames    \n",
    "sql = \"SELECT * FROM BoardGames;\"\n",
    "sales_data_df = pd.read_sql(sql, engine)\n",
    "sales_data_df"
   ]
  },
  {
   "cell_type": "code",
   "execution_count": 46,
   "metadata": {},
   "outputs": [
    {
     "data": {
      "text/plain": [
       "81"
      ]
     },
     "execution_count": 46,
     "metadata": {},
     "output_type": "execute_result"
    }
   ],
   "source": [
    "#Number of Column of table BoardGames\n",
    "len(sales_data_df.columns)"
   ]
  },
  {
   "cell_type": "code",
   "execution_count": null,
   "metadata": {
    "collapsed": true
   },
   "outputs": [],
   "source": []
  }
 ],
 "metadata": {
  "kernelspec": {
   "display_name": "Python 3",
   "language": "python",
   "name": "python3"
  },
  "language_info": {
   "codemirror_mode": {
    "name": "ipython",
    "version": 3
   },
   "file_extension": ".py",
   "mimetype": "text/x-python",
   "name": "python",
   "nbconvert_exporter": "python",
   "pygments_lexer": "ipython3",
   "version": "3.6.3"
  }
 },
 "nbformat": 4,
 "nbformat_minor": 2
}
